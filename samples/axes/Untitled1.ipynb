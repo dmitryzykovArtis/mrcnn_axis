{
 "cells": [
  {
   "cell_type": "code",
   "execution_count": 2,
   "id": "47377e2e-5309-43d9-a8f8-f71dd799dc80",
   "metadata": {},
   "outputs": [],
   "source": [
    "import os\n",
    "import cv2\n",
    "import PIL\n",
    "from PIL import Image, ImageChops\n",
    "import threading\n",
    "import queue"
   ]
  },
  {
   "cell_type": "code",
   "execution_count": 12,
   "id": "248d9d8b-1311-4952-bf09-0e58212961ac",
   "metadata": {},
   "outputs": [
    {
     "name": "stdout",
     "output_type": "stream",
     "text": [
      "указать путь"
     ]
    },
    {
     "name": "stdin",
     "output_type": "stream",
     "text": [
      " E:/tehzor/datasets/axes_op/jpgs/\n"
     ]
    },
    {
     "name": "stdout",
     "output_type": "stream",
     "text": [
      "Программа завершила работу, файлов обработано .\n"
     ]
    }
   ],
   "source": [
    "print('указать путь', end = '')\n",
    "directory_in_str = input()\n",
    "\n",
    "directory = os.fsencode(directory_in_str)\n",
    "imgs = os.listdir(directory_in_str)\n",
    "dublicates = {}\n",
    "try:\n",
    "    for file in os.listdir(directory):\n",
    "        filename = os.fsdecode(file)\n",
    "        last_name = directory_in_str\n",
    "        last_name += '\\\\' + filename\n",
    "        f_info = os.stat(last_name)\n",
    "        if f_info.st_size in dublicates:\n",
    "            image_1 = Image.open(last_name)\n",
    "            image_2 = Image.open(dublicates[f_info.st_size])\n",
    "            result = ImageChops.difference(image_1, image_2)\n",
    "            result = result.getbbox()\n",
    "            couter = 0\n",
    "            if result == None:\n",
    "                couter += 1\n",
    "                print(f'Найден дубликат: [{last_name} и {dublicates[f_info.st_size]}]')\n",
    "            else:\n",
    "                dublicates[f_info.st_size] = last_name\n",
    "except:\n",
    "    print('Ошибка поиска директории!')\n",
    "\n",
    "print(f'Программа завершила работу, файлов обработано .')"
   ]
  },
  {
   "cell_type": "code",
   "execution_count": null,
   "id": "08c2d848-907a-4459-95ad-2ff10982d492",
   "metadata": {},
   "outputs": [],
   "source": []
  },
  {
   "cell_type": "code",
   "execution_count": null,
   "id": "163395b2-a9e6-45de-967e-2d38080a7d67",
   "metadata": {},
   "outputs": [],
   "source": []
  },
  {
   "cell_type": "code",
   "execution_count": 2,
   "id": "ee337def-48d4-4395-a56f-b06043068ee6",
   "metadata": {},
   "outputs": [
    {
     "name": "stdout",
     "output_type": "stream",
     "text": [
      "None\n"
     ]
    }
   ],
   "source": [
    "from PIL import ImageChops\n",
    "\n",
    "image_1=Image.open('E:/tehzor/datasets/axes_op/jpgs/5a3ff89583f47602aa303c70.jpg')\n",
    "image_2=Image.open('E:/tehzor/datasets/axes_op/jpgs/5a3ffbbdbe6da402a9547a33.jpg')\n",
    "\n",
    "result=ImageChops.difference(image_1, image_2)\n",
    "result.show()\n",
    "\n",
    "#Вычисляет ограничивающую рамку ненулевых областей на изображении.\n",
    "print(result.getbbox()) \n",
    "\n",
    "# result.getbbox() в данном случае вернет (0, 0, 888, 666)\n",
    "result.save('result.jpg')"
   ]
  },
  {
   "cell_type": "raw",
   "id": "8388f2ab-2d51-4994-b351-ddb4c82fd811",
   "metadata": {},
   "source": [
    "def difference_images(img1, img2):\n",
    "    image_1 = Image.open(img1)\n",
    "    image_2 = Image.open(img2)\n",
    "    result=ImageChops.difference(image_1, image_2).getbbox()\n",
    "    if result==None:\n",
    "        print(img1,img2,'matches')\n",
    "    return"
   ]
  },
  {
   "cell_type": "code",
   "execution_count": 3,
   "id": "f3cc88dc-44a7-45ca-a530-bdb3a81461af",
   "metadata": {},
   "outputs": [],
   "source": [
    "def difference_images(img1, img2):\n",
    "    image_1 = Image.open(img1)\n",
    "    image_2 = Image.open(img2)\n",
    "    \n",
    "    size = [400,300]        #размер в пикселях\n",
    "    image_1.thumbnail(size) #уменьшаем первое изображение\n",
    "    image_2.thumbnail(size) #уменьшаем второе изображение\n",
    "\n",
    "    #сравниваем уменьшенные изображения\n",
    "    result=ImageChops.difference(image_1, image_2).getbbox() \n",
    "    if result==None:\n",
    "        print(img1,img2,'matches')\n",
    "    return"
   ]
  },
  {
   "cell_type": "code",
   "execution_count": 7,
   "id": "937d236c-99c4-402a-a538-9916c6a38116",
   "metadata": {},
   "outputs": [
    {
     "name": "stderr",
     "output_type": "stream",
     "text": [
      "Exception in thread Thread-17:\n",
      "Traceback (most recent call last):\n",
      "  File \"C:\\Users\\olga\\miniconda3\\lib\\threading.py\", line 926, in _bootstrap_inner\n",
      "    self.run()\n",
      "  File \"C:\\Users\\olga\\AppData\\Local\\Temp\\ipykernel_19564\\141478493.py\", line 19, in run\n",
      "    self.difference_images(files.split(':')[0],files.split(':')[1])\n",
      "  File \"C:\\Users\\olga\\AppData\\Local\\Temp\\ipykernel_19564\\141478493.py\", line 24, in difference_images\n",
      "    image_1 = Image.open(img1)\n",
      "  File \"C:\\Users\\olga\\miniconda3\\lib\\site-packages\\PIL\\Image.py\", line 3068, in open\n",
      "    fp = builtins.open(filename, \"rb\")\n",
      "FileNotFoundError: [Errno 2] No such file or directory: 'E'\n",
      "\n",
      "Exception in thread Thread-18:\n",
      "Traceback (most recent call last):\n",
      "  File \"C:\\Users\\olga\\miniconda3\\lib\\threading.py\", line 926, in _bootstrap_inner\n",
      "    self.run()\n",
      "  File \"C:\\Users\\olga\\AppData\\Local\\Temp\\ipykernel_19564\\141478493.py\", line 19, in run\n",
      "    self.difference_images(files.split(':')[0],files.split(':')[1])\n",
      "  File \"C:\\Users\\olga\\AppData\\Local\\Temp\\ipykernel_19564\\141478493.py\", line 24, in difference_images\n",
      "    image_1 = Image.open(img1)\n",
      "  File \"C:\\Users\\olga\\miniconda3\\lib\\site-packages\\PIL\\Image.py\", line 3068, in open\n",
      "    fp = builtins.open(filename, \"rb\")\n",
      "FileNotFoundError: [Errno 2] No such file or directory: 'E'\n",
      "\n",
      "Exception in thread Thread-19:\n",
      "Traceback (most recent call last):\n",
      "  File \"C:\\Users\\olga\\miniconda3\\lib\\threading.py\", line 926, in _bootstrap_inner\n",
      "    self.run()\n",
      "  File \"C:\\Users\\olga\\AppData\\Local\\Temp\\ipykernel_19564\\141478493.py\", line 19, in run\n",
      "    self.difference_images(files.split(':')[0],files.split(':')[1])\n",
      "  File \"C:\\Users\\olga\\AppData\\Local\\Temp\\ipykernel_19564\\141478493.py\", line 24, in difference_images\n",
      "    image_1 = Image.open(img1)\n",
      "  File \"C:\\Users\\olga\\miniconda3\\lib\\site-packages\\PIL\\Image.py\", line 3068, in open\n",
      "    fp = builtins.open(filename, \"rb\")\n",
      "FileNotFoundError: [Errno 2] No such file or directory: 'E'\n",
      "\n",
      "Exception in thread Thread-20:\n",
      "Traceback (most recent call last):\n",
      "  File \"C:\\Users\\olga\\miniconda3\\lib\\threading.py\", line 926, in _bootstrap_inner\n",
      "    self.run()\n",
      "  File \"C:\\Users\\olga\\AppData\\Local\\Temp\\ipykernel_19564\\141478493.py\", line 19, in run\n",
      "    self.difference_images(files.split(':')[0],files.split(':')[1])\n",
      "  File \"C:\\Users\\olga\\AppData\\Local\\Temp\\ipykernel_19564\\141478493.py\", line 24, in difference_images\n",
      "    image_1 = Image.open(img1)\n",
      "  File \"C:\\Users\\olga\\miniconda3\\lib\\site-packages\\PIL\\Image.py\", line 3068, in open\n",
      "    fp = builtins.open(filename, \"rb\")\n",
      "FileNotFoundError: [Errno 2] No such file or directory: 'E'\n",
      "\n"
     ]
    },
    {
     "ename": "IndexError",
     "evalue": "list index out of range",
     "output_type": "error",
     "traceback": [
      "\u001b[1;31m---------------------------------------------------------------------------\u001b[0m",
      "\u001b[1;31mIndexError\u001b[0m                                Traceback (most recent call last)",
      "\u001b[1;32m~\\AppData\\Local\\Temp\\ipykernel_19564\\141478493.py\u001b[0m in \u001b[0;36m<module>\u001b[1;34m\u001b[0m\n\u001b[0;32m     64\u001b[0m \u001b[1;32mif\u001b[0m \u001b[0m__name__\u001b[0m \u001b[1;33m==\u001b[0m \u001b[1;34m\"__main__\"\u001b[0m\u001b[1;33m:\u001b[0m\u001b[1;33m\u001b[0m\u001b[1;33m\u001b[0m\u001b[0m\n\u001b[0;32m     65\u001b[0m     \u001b[0mpath\u001b[0m\u001b[1;33m=\u001b[0m\u001b[1;34m'E:/tehzor/datasets/axes_op/jpgs/'\u001b[0m\u001b[1;33m\u001b[0m\u001b[1;33m\u001b[0m\u001b[0m\n\u001b[1;32m---> 66\u001b[1;33m     \u001b[0mmain\u001b[0m\u001b[1;33m(\u001b[0m\u001b[0mpath\u001b[0m\u001b[1;33m)\u001b[0m\u001b[1;33m\u001b[0m\u001b[1;33m\u001b[0m\u001b[0m\n\u001b[0m",
      "\u001b[1;32m~\\AppData\\Local\\Temp\\ipykernel_19564\\141478493.py\u001b[0m in \u001b[0;36mmain\u001b[1;34m(path)\u001b[0m\n\u001b[0;32m     52\u001b[0m             \u001b[0mcurrent_file\u001b[0m\u001b[1;33m+=\u001b[0m\u001b[1;36m1\u001b[0m\u001b[1;33m\u001b[0m\u001b[1;33m\u001b[0m\u001b[0m\n\u001b[0;32m     53\u001b[0m             \u001b[1;32mcontinue\u001b[0m\u001b[1;33m\u001b[0m\u001b[1;33m\u001b[0m\u001b[0m\n\u001b[1;32m---> 54\u001b[1;33m         \u001b[0mq\u001b[0m\u001b[1;33m.\u001b[0m\u001b[0mput\u001b[0m\u001b[1;33m(\u001b[0m\u001b[0mpath\u001b[0m\u001b[1;33m+\u001b[0m\u001b[0mimgs\u001b[0m\u001b[1;33m[\u001b[0m\u001b[0mcurrent_file\u001b[0m\u001b[1;33m]\u001b[0m\u001b[1;33m+\u001b[0m\u001b[1;34m':'\u001b[0m\u001b[1;33m+\u001b[0m\u001b[0mpath\u001b[0m\u001b[1;33m+\u001b[0m\u001b[0mimgs\u001b[0m\u001b[1;33m[\u001b[0m\u001b[0mcheck_file\u001b[0m\u001b[1;33m]\u001b[0m\u001b[1;33m)\u001b[0m\u001b[1;33m\u001b[0m\u001b[1;33m\u001b[0m\u001b[0m\n\u001b[0m\u001b[0;32m     55\u001b[0m         \u001b[0mcurrent_file\u001b[0m\u001b[1;33m+=\u001b[0m\u001b[1;36m1\u001b[0m\u001b[1;33m\u001b[0m\u001b[1;33m\u001b[0m\u001b[0m\n\u001b[0;32m     56\u001b[0m         \u001b[1;32mif\u001b[0m \u001b[0mcurrent_file\u001b[0m\u001b[1;33m==\u001b[0m\u001b[0mlen\u001b[0m\u001b[1;33m(\u001b[0m\u001b[0mimgs\u001b[0m\u001b[1;33m)\u001b[0m\u001b[1;33m:\u001b[0m\u001b[1;33m\u001b[0m\u001b[1;33m\u001b[0m\u001b[0m\n",
      "\u001b[1;31mIndexError\u001b[0m: list index out of range"
     ]
    }
   ],
   "source": [
    "path='E:/tehzor/datasets/axes_op/jpgs/' #Путь к папке где лежат файлы для сравнения\n",
    "#imgs=os.listdir(path)\n",
    "\n",
    "\n",
    "        \n",
    "\n",
    "class diff_image(threading.Thread): #класс по сравнению картинок.\n",
    "    \"\"\"Потоковый обработчик\"\"\"\n",
    "    def __init__(self, queue):\n",
    "        \"\"\"Инициализация потока\"\"\"\n",
    "        threading.Thread.__init__(self)\n",
    "        self.queue = queue\n",
    "    def run(self):\n",
    "        \"\"\"Запуск потока\"\"\"\n",
    "        while True:\n",
    "            # Получаем пару путей из очереди\n",
    "            files = self.queue.get()\n",
    "            # Делим и сравниваем\n",
    "            self.difference_images(files.split(':')[0],files.split(':')[1])        \n",
    "            # Отправляем сигнал о том, что задача завершена\n",
    "            self.queue.task_done()\n",
    "            \n",
    "    def difference_images(self, img1, img2):\n",
    "        image_1 = Image.open(img1)\n",
    "        image_2 = Image.open(img2)\n",
    "\n",
    "        size = [400,300] #размер в пикселях\n",
    "        image_1.thumbnail(size) #уменьшаем первое изображение\n",
    "        image_2.thumbnail(size) #уменьшаем второе изображение\n",
    "\n",
    "        result=ImageChops.difference(image_1, image_2).getbbox()\n",
    "        if result==None:\n",
    "            print(img1,img2,'matches')\n",
    "        return \n",
    "        \n",
    "def main(path):\n",
    "    imgs=os.listdir(path) #Получаем список картинок\n",
    "    q = queue.Queue()\n",
    "    \n",
    "    # Запускаем поток и очередь\n",
    "    for i in range(4): # 4 - кол-во одновременных потоков\n",
    "        t = diff_image(q)\n",
    "        t.setDaemon(True)\n",
    "        t.start()    \n",
    "       \n",
    "    # Даем очереди нужные пары файлов для проверки\n",
    "    check_file=0\n",
    "    current_file=0\n",
    "\n",
    "    while check_file<len(imgs):\n",
    "        if current_file==check_file:\n",
    "            current_file+=1\n",
    "            continue\n",
    "        q.put(path+imgs[current_file]+':'+path+imgs[check_file]) \n",
    "        current_file+=1\n",
    "        if current_file==len(imgs):\n",
    "            check_file+=1\n",
    "            current_file=check_file   \n",
    "\n",
    "    # Ждем завершения работы очереди\n",
    "    q.join()\n",
    "\n",
    "\n",
    "if __name__ == \"__main__\":\n",
    "    path='E:/tehzor/datasets/axes_op/jpgs/'\n",
    "    main(path)"
   ]
  },
  {
   "cell_type": "code",
   "execution_count": null,
   "id": "f6d513d8-e403-45f8-8e86-831830f18bae",
   "metadata": {},
   "outputs": [],
   "source": []
  }
 ],
 "metadata": {
  "kernelspec": {
   "display_name": "Python 3 (ipykernel)",
   "language": "python",
   "name": "python3"
  },
  "language_info": {
   "codemirror_mode": {
    "name": "ipython",
    "version": 3
   },
   "file_extension": ".py",
   "mimetype": "text/x-python",
   "name": "python",
   "nbconvert_exporter": "python",
   "pygments_lexer": "ipython3",
   "version": "3.7.11"
  }
 },
 "nbformat": 4,
 "nbformat_minor": 5
}
